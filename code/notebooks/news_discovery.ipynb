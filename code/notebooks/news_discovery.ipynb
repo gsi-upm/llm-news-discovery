{
 "cells": [
  {
   "cell_type": "code",
   "execution_count": null,
   "id": "76dd9676",
   "metadata": {},
   "outputs": [],
   "source": [
    "from openai import OpenAI\n",
    "from os import getenv\n",
    "from dotenv import load_dotenv\n",
    "import pandas as pd\n",
    "import sys\n",
    "import os\n",
    "import csv\n",
    "sys.path.append('..')\n",
    "from utils.llm_call_utils import perform_experiment\n",
    "\n",
    "load_dotenv('../config/sergio.env')"
   ]
  },
  {
   "cell_type": "code",
   "execution_count": null,
   "id": "e46e74fc",
   "metadata": {},
   "outputs": [],
   "source": [
    "models = {\n",
    "    \"gpt-4o\": \"openai/gpt-4o\", \n",
    "    \"gpt-4o-mini\": \"openai/gpt-4o-mini\",\n",
    "    \"gpt-4-1\": \"openai/gpt-4.1\",\n",
    "    \"gpt-4-1-mini\" : \"openai/gpt-4.1-mini\",\n",
    "    \"claude-3.7-sonnet\": \"anthropic/claude-3.7-sonnet\",\n",
    "    \"claude-sonnet-4\": \"anthropic/claude-sonnet-4\",\n",
    "    \"gemini-2.5-flash\": \"google/gemini-2.5-flash\",\n",
    "    \"gemini-2.5-pro\": \"google/gemini-2.5-pro\",\n",
    "    \"deepseek-r1-0528\": \"deepseek/deepseek-r1-0528\",\n",
    "    \"deepseek-chat-v3-0324\": \"deepseek/deepseek-chat-v3-0324\",\n",
    "    \"magistral-small-2506\": \"mistralai/magistral-small-2506\",\n",
    "    \"magistral-medium-2506\": \"mistralai/magistral-medium-2506\",\n",
    "    \"llama-3.3-70b-instruct\": \"meta-llama/llama-3.3-70b-instruct\",\n",
    "    \"llama-4-maverick\" : \"meta-llama/llama-4-maverick\",\n",
    "    \"llama-4-scout\" : \"meta-llama/llama-4-scout\",\n",
    "    \"qwen3-14b\" : \"qwen/qwen3-14b\",\n",
    "    \"qwen3-30b-a3b\": \"qwen/qwen3-30b-a3b\",\n",
    "}\n",
    "\n",
    "topics = ['immigration']\n",
    "language = 'English'"
   ]
  },
  {
   "cell_type": "code",
   "execution_count": null,
   "id": "b38c4b79",
   "metadata": {},
   "outputs": [],
   "source": [
    "# get the news through the LLM\n",
    "\n",
    "client = OpenAI(\n",
    "  base_url=\"https://openrouter.ai/api/v1\",\n",
    "  api_key=getenv(\"OPENROUTER_GSI_API\")\n",
    ")\n",
    "\n",
    "for topic in topics:\n",
    "    print(f'Topic: {topic}')\n",
    "    perform_experiment(client, models, topic, prompt_filename=f'../config/prompts/{topic}.txt', num_articles=10, days=30, language=language)"
   ]
  },
  {
   "cell_type": "code",
   "execution_count": null,
   "id": "b7045d7a",
   "metadata": {},
   "outputs": [],
   "source": [
    "# merge the news by topic\n",
    "\n",
    "for topic in topics:\n",
    "    merged = pd.DataFrame()\n",
    "\n",
    "    for model_name in models:\n",
    "        filename = f'news/raw/{topic}_{model_name}.csv'\n",
    "        data = pd.read_csv(filename)\n",
    "        data['model'] = model_name\n",
    "        merged = pd.concat([merged, data])\n",
    "\n",
    "    filename= f'news/merged/{topic}.csv'\n",
    "    os.makedirs(os.path.dirname(filename), exist_ok=True)\n",
    "    merged.to_csv(filename, index=False, quoting=csv.QUOTE_ALL)"
   ]
  },
  {
   "cell_type": "markdown",
   "id": "67462fbe",
   "metadata": {},
   "source": [
    "news articles with pdfs or generic urls must be removed manually"
   ]
  },
  {
   "cell_type": "markdown",
   "id": "84708deb",
   "metadata": {},
   "source": []
  }
 ],
 "metadata": {
  "kernelspec": {
   "display_name": "llm-news",
   "language": "python",
   "name": "python3"
  },
  "language_info": {
   "codemirror_mode": {
    "name": "ipython",
    "version": 3
   },
   "file_extension": ".py",
   "mimetype": "text/x-python",
   "name": "python",
   "nbconvert_exporter": "python",
   "pygments_lexer": "ipython3",
   "version": "3.10.12"
  }
 },
 "nbformat": 4,
 "nbformat_minor": 5
}
