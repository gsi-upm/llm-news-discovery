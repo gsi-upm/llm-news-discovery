{
 "cells": [
  {
   "cell_type": "code",
   "execution_count": null,
   "id": "2ce7127d",
   "metadata": {},
   "outputs": [],
   "source": [
    "import pandas as pd\n",
    "import os\n",
    "import sys\n",
    "\n",
    "sys.path.append('..')\n",
    "from utils.news_download_utils import download_newspaper4k, download_playwright, download_cloudscraper"
   ]
  },
  {
   "cell_type": "code",
   "execution_count": null,
   "id": "e19c1545",
   "metadata": {},
   "outputs": [],
   "source": [
    "topics = ['immigration']"
   ]
  },
  {
   "cell_type": "code",
   "execution_count": null,
   "id": "4486dc78",
   "metadata": {},
   "outputs": [],
   "source": [
    "# first step: download through newspaper4k\n",
    "\n",
    "for topic in topics:\n",
    "    print(f'Topic: {topic}')\n",
    "    filename = f'news/retrieved/step1_{topic}.csv'\n",
    "    if os.path.exists(filename):\n",
    "        print(f'Skipping {filename}, already exists.')\n",
    "        continue    \n",
    "    news = pd.read_csv(f'news/merged/{topic}.csv')\n",
    "    news = news.dropna(subset=['url'])\n",
    "\n",
    "    downloaded_news = {}\n",
    "    news['text'] = news['url'].apply(lambda x: download_newspaper4k(x, downloaded_news=downloaded_news))\n",
    "    news.to_csv(f'news/retrieved/step1_{topic}.csv', index=False)\n"
   ]
  },
  {
   "cell_type": "code",
   "execution_count": null,
   "id": "ce86b018",
   "metadata": {},
   "outputs": [],
   "source": [
    "# second step: download through playwright\n",
    "for topic in topics:\n",
    "    print(f'Topic: {topic}')\n",
    "    filename = f'news/retrieved/step2_{topic}.csv'\n",
    "    if os.path.exists(filename):\n",
    "        print(f'Skipping {filename}, already exists.')\n",
    "        continue    \n",
    "    news = pd.read_csv(f'news/retrieved/step1_{topic}.csv')\n",
    "    # remove rows with 404\n",
    "    news = news[news['text'] != 404].reset_index(drop=True)\n",
    "\n",
    "    downloaded_news = {}\n",
    "    for index, row in news.iterrows():\n",
    "        if str(row['text']).isnumeric() or pd.isna(row['text']):\n",
    "            news.at[index, 'text'] = await download_playwright(row['url'], downloaded_news=downloaded_news)\n",
    "\n",
    "    news.to_csv(f'news/retrieved/step2_{topic}.csv', index=False)"
   ]
  },
  {
   "cell_type": "code",
   "execution_count": null,
   "id": "6baffa83",
   "metadata": {},
   "outputs": [],
   "source": [
    "# third step: download through cloudscraper\n",
    "for topic in topics:\n",
    "    print(f'Topic: {topic}')\n",
    "    filename = f'news/retrieved/step3_{topic}.csv'\n",
    "    if os.path.exists(filename):\n",
    "        print(f'Skipping {filename}, already exists.')\n",
    "        continue    \n",
    "    news = pd.read_csv(f'news/retrieved/step2_{topic}.csv')\n",
    "\n",
    "    downloaded_news = {}\n",
    "    for index, row in news.iterrows():\n",
    "        if str(row['text']).isnumeric() or pd.isna(row['text']) or row['text'] == \"-1\":\n",
    "            news.at[index, 'text'] = await download_playwright(row['url'], downloaded_news=downloaded_news)\n",
    "\n",
    "    news.to_csv(f'news/retrieved/step3_{topic}.csv', index=False)"
   ]
  },
  {
   "cell_type": "code",
   "execution_count": null,
   "id": "c6ade5e5",
   "metadata": {},
   "outputs": [],
   "source": []
  }
 ],
 "metadata": {
  "kernelspec": {
   "display_name": "llm-news",
   "language": "python",
   "name": "python3"
  },
  "language_info": {
   "codemirror_mode": {
    "name": "ipython",
    "version": 3
   },
   "file_extension": ".py",
   "mimetype": "text/x-python",
   "name": "python",
   "nbconvert_exporter": "python",
   "pygments_lexer": "ipython3",
   "version": "3.10.12"
  }
 },
 "nbformat": 4,
 "nbformat_minor": 5
}
